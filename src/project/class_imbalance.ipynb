{
 "cells": [
  {
   "cell_type": "code",
   "execution_count": 1,
   "id": "9c56fbea",
   "metadata": {},
   "outputs": [
    {
     "name": "stdout",
     "output_type": "stream",
     "text": [
      "Initial Gender Distribution:\n",
      "Male      2652\n",
      "Female    1248\n",
      "Name: Gender, dtype: int64\n",
      "\n",
      "Gender Distribution After Oversampling:\n",
      "Male      2652\n",
      "Female    2652\n",
      "Name: Gender, dtype: int64\n"
     ]
    }
   ],
   "source": [
    "import pandas as pd\n",
    "from sklearn.utils import resample\n",
    "\n",
    "# Load the dataset\n",
    "df = pd.read_csv(\"../data/Customers3.csv\")\n",
    "\n",
    "# Check the initial class distribution\n",
    "print(\"Initial Gender Distribution:\")\n",
    "print(df['Gender'].value_counts())\n",
    "\n",
    "# Separate majority and minority classes\n",
    "df_male = df[df['Gender'] == 'Male']\n",
    "df_female = df[df['Gender'] == 'Female']\n",
    "\n",
    "# Oversample the minority class (Female) to match the majority class (Male)\n",
    "df_female_oversampled = resample(df_female,\n",
    "                                replace=True,  # Sample with replacement\n",
    "                                n_samples=len(df_male),  # Match the number of male samples\n",
    "                                random_state=42)  # Reproducible results\n",
    "\n",
    "# Combine majority and oversampled minority classes\n",
    "df_balanced = pd.concat([df_male, df_female_oversampled])\n",
    "\n",
    "# Check the new class distribution\n",
    "print(\"\\nGender Distribution After Oversampling:\")\n",
    "print(df_balanced['Gender'].value_counts())\n",
    "\n",
    "# Save the balanced dataset\n",
    "df_balanced.to_csv('../data/Customers3_oversampled.csv', index=False)"
   ]
  }
 ],
 "metadata": {
  "kernelspec": {
   "display_name": "dsi_participant",
   "language": "python",
   "name": "python3"
  },
  "language_info": {
   "codemirror_mode": {
    "name": "ipython",
    "version": 3
   },
   "file_extension": ".py",
   "mimetype": "text/x-python",
   "name": "python",
   "nbconvert_exporter": "python",
   "pygments_lexer": "ipython3",
   "version": "3.9.15"
  }
 },
 "nbformat": 4,
 "nbformat_minor": 5
}
